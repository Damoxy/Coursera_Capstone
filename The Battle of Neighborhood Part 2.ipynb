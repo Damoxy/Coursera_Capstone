{
    "cells": [
        {
            "cell_type": "markdown",
            "metadata": {
                "collapsed": true
            },
            "source": "# The Battle of Neighborhood 2\n"
        },
        {
            "cell_type": "markdown",
            "metadata": {},
            "source": "# Introduction\n"
        },
        {
            "cell_type": "markdown",
            "metadata": {},
            "source": " This project is to take a glimpse at different neighborhoods of Providence,RI and Hartford,CT. Both cities are capital cities of their states and are major cities between New York City and Boston in East Coast.\n"
        },
        {
            "cell_type": "markdown",
            "metadata": {},
            "source": "Travelers from inside and outside of New England area who want to dicide where to visit and business owners may be interested in the project.\nData\n"
        },
        {
            "cell_type": "markdown",
            "metadata": {},
            "source": "I organized two data sets of zipcode and neighborhoods with latitude and longtude for each city from multiple online sources\n"
        },
        {
            "cell_type": "markdown",
            "metadata": {},
            "source": "\n# Methodology\n"
        },
        {
            "cell_type": "markdown",
            "metadata": {},
            "source": "Basic skills from week 3 lab\n"
        },
        {
            "cell_type": "markdown",
            "metadata": {},
            "source": "Majorly relied on Foursquare API to retrieve all venues of each neighborhoods, then group by each neighborhoods and to count how many venues before filter top 10 most common venue types of each neighborhoods"
        },
        {
            "cell_type": "code",
            "execution_count": 2,
            "metadata": {},
            "outputs": [],
            "source": "# Import the required library\nimport numpy as np\nimport pandas as pd"
        },
        {
            "cell_type": "code",
            "execution_count": null,
            "metadata": {},
            "outputs": [
                {
                    "name": "stdout",
                    "output_type": "stream",
                    "text": "Solving environment: done\n\n## Package Plan ##\n\n  environment location: /opt/conda/envs/Python36\n\n  added / updated specs: \n    - geopy\n\n\nThe following packages will be downloaded:\n\n    package                    |            build\n    ---------------------------|-----------------\n    openssl-1.1.1d             |       h516909a_0         2.1 MB  conda-forge\n    certifi-2019.11.28         |           py36_0         149 KB  conda-forge\n    geographiclib-1.50         |             py_0          34 KB  conda-forge\n    ca-certificates-2019.11.28 |       hecc5488_0         145 KB  conda-forge\n    geopy-1.21.0               |             py_0          58 KB  conda-forge\n    ------------------------------------------------------------\n                                           Total:         2.5 MB\n\nThe following NEW packages will be INSTALLED:\n\n    geographiclib:   1.50-py_0         conda-forge\n    geopy:           1.21.0-py_0       conda-forge\n\nThe following packages will be UPDATED:\n\n    ca-certificates: 2019.11.27-0                  --> 2019.11.28-hecc5488_0 conda-forge\n    certifi:         2019.11.28-py36_0             --> 2019.11.28-py36_0     conda-forge\n\nThe following packages will be DOWNGRADED:\n\n    openssl:         1.1.1d-h7b6447c_3             --> 1.1.1d-h516909a_0     conda-forge\n\n\nDownloading and Extracting Packages\nopenssl-1.1.1d       | 2.1 MB    | ##################################### | 100% \ncertifi-2019.11.28   | 149 KB    | ##################################### | 100% \ngeographiclib-1.50   | 34 KB     | ##################################### | 100% \nca-certificates-2019 | 145 KB    | ##################################### | 100% \ngeopy-1.21.0         | 58 KB     | ##################################### | 100% \nPreparing transaction: done\nVerifying transaction: done\nExecuting transaction: done\nSolving environment: \\ "
                }
            ],
            "source": "import numpy as np # library to handle data in a vectorized manner\nimport time\nimport pandas as pd # library for data analsysis\npd.set_option('display.max_columns', None)\npd.set_option('display.max_rows', None)\n\nimport json # library to handle JSON files\nimport requests # library to handle requests\nfrom pandas.io.json import json_normalize # tranform JSON file into a pandas dataframe\n\n\n!conda install -c conda-forge geopy --yes # uncomment this line if you haven't completed the Foursquare API lab\nfrom geopy.geocoders import Nominatim # convert an address into latitude and longitude values\n\n!conda install -c conda-forge folium=0.5.0 --yes # uncomment this line if you haven't completed the Foursquare API lab\nimport folium # map rendering library\nimport folium # map rendering library\nfrom folium import plugins\n\n# Matplotlib and associated plotting modules\nimport matplotlib.cm as cm\nimport matplotlib.colors as colors\n\nimport seaborn as sns\n\n# import k-means from clustering stage\nfrom sklearn.cluster import KMeans\n\n\n"
        },
        {
            "cell_type": "code",
            "execution_count": null,
            "metadata": {},
            "outputs": [],
            "source": "# Shenton Way, District 01, Singapore\naddress = 'Mccallum Street, Singapore'\ngeolocator = Nominatim()\nlocation = geolocator.geocode(address)\nlatitude = location.latitude\nlongitude = location.longitude\nprint('The geograpical coordinate of Singapore home are {}, {}.'.format(latitude, longitude))"
        },
        {
            "cell_type": "code",
            "execution_count": null,
            "metadata": {},
            "outputs": [],
            "source": "neighborhood_latitude=1.2792655\nneighborhood_longitude=103.8480938"
        },
        {
            "cell_type": "code",
            "execution_count": null,
            "metadata": {},
            "outputs": [],
            "source": "# The code was removed by Watson Studio for sharing."
        },
        {
            "cell_type": "code",
            "execution_count": null,
            "metadata": {},
            "outputs": [],
            "source": "LIMIT = 100 # limit of number of venues returned by Foursquare API\nradius = 500 # define radius\n# create URL\nurl = 'https://api.foursquare.com/v2/venues/explore?&client_id={}&client_secret={}&v={}&ll={},{}&radius={}&limit={}'.format(\n    CLIENT_ID, \n    CLIENT_SECRET, \n    VERSION, \n    neighborhood_latitude, \n    neighborhood_longitude, \n    radius, \n    LIMIT)"
        },
        {
            "cell_type": "code",
            "execution_count": null,
            "metadata": {},
            "outputs": [],
            "source": "results = requests.get(url).json()"
        },
        {
            "cell_type": "code",
            "execution_count": null,
            "metadata": {},
            "outputs": [],
            "source": "def get_category_type(row):\n    try:\n        categories_list = row['categories']\n    except:\n        categories_list = row['venue.categories']\n        \n    if len(categories_list) == 0:\n        return None\n    else:\n        return categories_list[0]['name']"
        },
        {
            "cell_type": "code",
            "execution_count": null,
            "metadata": {},
            "outputs": [],
            "source": "venues = results['response']['groups'][0]['items']\nSGnearby_venues = json_normalize(venues) # flatten JSON\n# filter columns\nfiltered_columns = ['venue.name', 'venue.categories', 'venue.location.lat', 'venue.location.lng']\nSGnearby_venues =SGnearby_venues.loc[:, filtered_columns]\n# filter the category for each row\nSGnearby_venues['venue.categories'] = SGnearby_venues.apply(get_category_type, axis=1)\n# clean columns\nSGnearby_venues.columns = [col.split(\".\")[-1] for col in SGnearby_venues.columns]\n\nSGnearby_venues.shape"
        },
        {
            "cell_type": "code",
            "execution_count": null,
            "metadata": {},
            "outputs": [],
            "source": "# Venues near current Singapore residence place\nSGnearby_venues.head(10)"
        },
        {
            "cell_type": "code",
            "execution_count": null,
            "metadata": {},
            "outputs": [],
            "source": "latitude=1.2792655\nlongitude=103.8480938\n# create map of Singapore place  using latitude and longitude values\nmap_sg = folium.Map(location=[latitude, longitude], zoom_start=18)\n# add markers to map\nfor lat, lng, label in zip(SGnearby_venues['lat'], SGnearby_venues['lng'], SGnearby_venues['name']):\n    label = folium.Popup(label, parse_html=True)\n    folium.RegularPolygonMarker(\n        [lat, lng],\n        number_of_sides=30,\n        radius=7,\n        popup=label,\n        color='blue',\n        fill_color='#0f0f0f',\n        fill_opacity=0.6,\n    ).add_to(map_sg)  \n    \nmap_sg"
        },
        {
            "cell_type": "code",
            "execution_count": null,
            "metadata": {},
            "outputs": [],
            "source": "# Read csv file with clustered neighborhoods with geodata\nmanhattan_data  = pd.read_csv('mh_neigh_data.csv') \nmanhattan_data.head()"
        },
        {
            "cell_type": "code",
            "execution_count": null,
            "metadata": {},
            "outputs": [],
            "source": "manhattan_data.tail()"
        },
        {
            "cell_type": "code",
            "execution_count": null,
            "metadata": {},
            "outputs": [],
            "source": "manhattan_merged = pd.read_csv('manhattan_merged.csv')\nmanhattan_merged.head()"
        },
        {
            "cell_type": "code",
            "execution_count": null,
            "metadata": {},
            "outputs": [],
            "source": "# csv files with rental places with basic data but still wihtout geodata ( latitude and longitude)\n# pd.read_csv(' le.csv', header=None, nrows=5)\nmh_rent=pd.read_csv('MH_flats_price.csv')\nmh_rent.head()"
        },
        {
            "cell_type": "code",
            "execution_count": null,
            "metadata": {},
            "outputs": [],
            "source": "mh_rent.tail()"
        },
        {
            "cell_type": "code",
            "execution_count": null,
            "metadata": {},
            "outputs": [],
            "source": "\nmh_rent=pd.read_csv('MH_rent_latlong.csv')\nmh_rent.head()"
        },
        {
            "cell_type": "code",
            "execution_count": null,
            "metadata": {},
            "outputs": [],
            "source": "mh_rent.tail()"
        },
        {
            "cell_type": "code",
            "execution_count": null,
            "metadata": {},
            "outputs": [],
            "source": "mh_rent.tail()"
        },
        {
            "cell_type": "code",
            "execution_count": null,
            "metadata": {},
            "outputs": [],
            "source": "\nimport seaborn as sns\nsns.distplot(mh_rent['Price_per_ft2'],bins=15)"
        },
        {
            "cell_type": "code",
            "execution_count": null,
            "metadata": {},
            "outputs": [],
            "source": "sns.boxplot(x='Rooms', y= 'Rent_Price', data=mh_rent)"
        },
        {
            "cell_type": "code",
            "execution_count": null,
            "metadata": {},
            "outputs": [],
            "source": "# create map of Manhattan using latitude and longitude values from Nominatim\nlatitude= 40.7308619\nlongitude= -73.9871558\n\nmap_manhattan_rent = folium.Map(location=[latitude, longitude], zoom_start=12.5)\n\n# add markers to map\nfor lat, lng, label in zip(mh_rent['Lat'], mh_rent['Long'],'$ ' + mh_rent['Rent_Price'].astype(str)+ ',  '+ mh_rent['Address']):      \n    label = folium.Popup(label, parse_html=True)\n    folium.CircleMarker(\n        [lat, lng],\n        radius=6,\n        popup=label,\n        color='blue',\n        fill=True,\n        fill_color='#3186cc',\n        fill_opacity=0.7,\n        parse_html=False).add_to(map_manhattan_rent) \n    \n\nmap_manhattan_rent"
        },
        {
            "cell_type": "code",
            "execution_count": null,
            "metadata": {},
            "outputs": [],
            "source": "# create map of Manhattan using latitude and longitude values from Nominatim\nlatitude= 40.7308619\nlongitude= -73.9871558\n\n# create map with clusters\nkclusters=5\nmap_clusters2 = folium.Map(location=[latitude, longitude], zoom_start=13)\n\n# set color scheme for the clusters\nx = np.arange(kclusters)\nys = [i+x+(i*x)**2 for i in range(kclusters)]\ncolors_array = cm.rainbow(np.linspace(0, 1, len(ys)))\nrainbow = [colors.rgb2hex(i) for i in colors_array]\n\n# add markers to the map\nmarkers_colors = []\nfor lat, lon, poi, cluster in zip(manhattan_merged['Latitude'], manhattan_merged['Longitude'], manhattan_merged['Neighborhood'], manhattan_merged['Cluster Labels']):\n    label = folium.Popup(str(poi) + ' Cluster ' + str(cluster), parse_html=True)\n    folium.CircleMarker(\n        [lat, lon],\n        radius=20,\n        popup=label,\n        color=rainbow[cluster-1],\n        fill=True,\n        fill_color=rainbow[cluster-1],\n        fill_opacity=0.7).add_to(map_clusters2)\n\n# add markers to map for rental places\nfor lat, lng, label in zip(mh_rent['Lat'], mh_rent['Long'],'$ ' + mh_rent['Rent_Price'].astype(str)+ mh_rent['Address']):      \n    label = folium.Popup(label, parse_html=True)\n    folium.CircleMarker(\n        [lat, lng],\n        radius=6,\n        popup=label,\n        color='blue',\n        fill=True,\n        fill_color='#3186cc',\n        fill_opacity=0.7,\n        parse_html=False).add_to(map_clusters2)  \n    \n    # Adds tool to the top right\nfrom folium.plugins import MeasureControl\nmap_manhattan_rent.add_child(MeasureControl())\n\n# FMeasurement ruler icon to establish distnces on map\nfrom folium.plugins import FloatImage\nurl = ('https://media.licdn.com/mpr/mpr/shrinknp_100_100/AAEAAQAAAAAAAAlgAAAAJGE3OTA4YTdlLTkzZjUtNDFjYy1iZThlLWQ5OTNkYzlhNzM4OQ.jpg')\nFloatImage(url, bottom=5, left=85).add_to(map_manhattan_rent)\n\nmap_clusters2"
        },
        {
            "cell_type": "code",
            "execution_count": null,
            "metadata": {},
            "outputs": [],
            "source": "## kk is the cluster number to explore\nkk = 3\nmanhattan_merged.loc[manhattan_merged['Cluster Labels'] == kk, manhattan_merged.columns[[1] + list(range(5, manhattan_merged.shape[1]))]]"
        },
        {
            "cell_type": "code",
            "execution_count": null,
            "metadata": {},
            "outputs": [],
            "source": "# A csv file summarized the subway station and the addresses for next step to determine geodata\nmh=pd.read_csv('NYC_subway_list.csv')\nmh.head()"
        },
        {
            "cell_type": "code",
            "execution_count": null,
            "metadata": {},
            "outputs": [],
            "source": "#  Add columns 'lat'  and 'long' to mh dataframe - with random temporary numbers to get started\nsLength = len(mh['sub_station'])\nlat = pd.Series(np.random.randn(sLength))\nlong=pd.Series(np.random.randn(sLength))\nmh = mh.assign(lat=lat.values)\nmh = mh.assign(long=long.values)"
        },
        {
            "cell_type": "code",
            "execution_count": null,
            "metadata": {},
            "outputs": [],
            "source": "mh=pd.read_csv('MH_subway.csv')\nprint(mh.shape)\nmh.head()"
        },
        {
            "cell_type": "code",
            "execution_count": null,
            "metadata": {},
            "outputs": [],
            "source": "# removing duplicate rows and creating new set mhsub1\nmhsub1=mh.drop_duplicates(subset=['lat','long'], keep=\"last\").reset_index(drop=True)\nmhsub1.shape"
        },
        {
            "cell_type": "code",
            "execution_count": null,
            "metadata": {},
            "outputs": [],
            "source": "# map subway stations \n# create map of Manhattan using latitude and longitude values obtain previoulsy via Moninatim geolocator\nlatitude=40.7308619\nlongitude=-73.9871558\n\nmap_mhsub1 = folium.Map(location=[latitude, longitude], zoom_start=12)\n\n# add markers of subway locations to map\nfor lat, lng, label in zip(mhsub1['lat'], mhsub1['long'],  mhsub1['sub_station'].astype(str) ):\n    label = folium.Popup(label, parse_html=True)\n    folium.RegularPolygonMarker(\n        [lat, lng],\n        number_of_sides=6,\n        radius=6,\n        popup=label,\n        color='red',\n        fill_color='red',\n        fill_opacity=2.5,\n    ).add_to(map_mhsub1) \nmap_mhsub1"
        },
        {
            "cell_type": "code",
            "execution_count": null,
            "metadata": {},
            "outputs": [],
            "source": "mh_rent.head()"
        },
        {
            "cell_type": "code",
            "execution_count": null,
            "metadata": {},
            "outputs": [],
            "source": ""
        },
        {
            "cell_type": "code",
            "execution_count": null,
            "metadata": {},
            "outputs": [],
            "source": ""
        },
        {
            "cell_type": "code",
            "execution_count": null,
            "metadata": {},
            "outputs": [],
            "source": ""
        },
        {
            "cell_type": "code",
            "execution_count": null,
            "metadata": {},
            "outputs": [],
            "source": ""
        },
        {
            "cell_type": "code",
            "execution_count": null,
            "metadata": {},
            "outputs": [],
            "source": ""
        },
        {
            "cell_type": "code",
            "execution_count": null,
            "metadata": {},
            "outputs": [],
            "source": ""
        },
        {
            "cell_type": "code",
            "execution_count": null,
            "metadata": {},
            "outputs": [],
            "source": ""
        }
    ],
    "metadata": {
        "kernelspec": {
            "display_name": "Python 3.6",
            "language": "python",
            "name": "python3"
        },
        "language_info": {
            "codemirror_mode": {
                "name": "ipython",
                "version": 3
            },
            "file_extension": ".py",
            "mimetype": "text/x-python",
            "name": "python",
            "nbconvert_exporter": "python",
            "pygments_lexer": "ipython3",
            "version": "3.6.9"
        }
    },
    "nbformat": 4,
    "nbformat_minor": 1
}