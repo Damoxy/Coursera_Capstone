{
    "cells": [
        {
            "cell_type": "markdown",
            "metadata": {
                "collapsed": true
            },
            "source": "# A description of the problem and a discussion of the background.\n"
        },
        {
            "cell_type": "markdown",
            "metadata": {},
            "source": "A travel Agency  will like to bring in tourists into a Lagos state . Before providing the new package, the travel agency would like to dig deep into Lagos State since they want to be different  from  every other travel package, and to provide an in-depth experience to her clients. So, they want to count the venues of each neighbourhood and identify some distinct area and provides tour guide to walk through some of the areas with clients.\n\n"
        },
        {
            "cell_type": "markdown",
            "metadata": {},
            "source": "# A description of the data and how it will be used to solve the problem.\n"
        },
        {
            "cell_type": "markdown",
            "metadata": {},
            "source": "The map data is avaiable through Foursquare API, and the neiborhood information can be found online through zipcode."
        },
        {
            "cell_type": "code",
            "execution_count": null,
            "metadata": {},
            "outputs": [],
            "source": ""
        }
    ],
    "metadata": {
        "kernelspec": {
            "display_name": "Python 3.6",
            "language": "python",
            "name": "python3"
        },
        "language_info": {
            "codemirror_mode": {
                "name": "ipython",
                "version": 3
            },
            "file_extension": ".py",
            "mimetype": "text/x-python",
            "name": "python",
            "nbconvert_exporter": "python",
            "pygments_lexer": "ipython3",
            "version": "3.6.9"
        }
    },
    "nbformat": 4,
    "nbformat_minor": 1
}